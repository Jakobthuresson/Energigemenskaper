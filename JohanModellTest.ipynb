{
 "cells": [
  {
   "cell_type": "code",
   "execution_count": 3,
   "metadata": {},
   "outputs": [
    {
     "name": "stdout",
     "output_type": "stream",
     "text": [
      "     0\n",
      "0  0.0\n",
      "1  0.0\n",
      "2  0.0\n",
      "3  0.0\n",
      "4  0.0\n"
     ]
    },
    {
     "data": {
      "text/plain": [
       "'\\n\"SPOTPRIS 2023 (1).xlsx\"Solprod = pd.read_excel(\"Summa Solprod. ABK .xlsx\")\\n\\nABKEl = pd.read_excel(\"Summa ABK Eldata.xlsx\")\\n\\ncol1 = pd.to_numeric(Solprod.iloc[:, 0], errors= \\'coerce\\')  # First column of Solprod\\ncol2 = pd.to_numeric(ABKEl.iloc[:, 0], errors= \\'coerce\\')  # First column of ABKEl\\n\\nBatteri = 0.0\\n\\nfor i in range(len(col1)):\\n    diff = col1[i] - col2[i]\\n    Batteri += diff\\n\\nprint(Batteri)\\n'"
      ]
     },
     "execution_count": 3,
     "metadata": {},
     "output_type": "execute_result"
    }
   ],
   "source": [
    "\n",
    "from tokenize import Double\n",
    "import pandas as pd\n",
    "\n",
    "\n",
    "\n",
    "\n",
    "\n",
    "# Läs in filerna\n",
    "Solprod = pd.read_excel(\"SolprodABK.xlsx\", engine = \"openpyxl\")\n",
    "\n",
    "\n",
    "# Skriv ut de första raderna av båda dataframes\n",
    "print(Solprod.head())\n",
    "\n",
    "\n",
    "'''\n",
    "\"SPOTPRIS 2023 (1).xlsx\"Solprod = pd.read_excel(\"Summa Solprod. ABK .xlsx\")\n",
    "\n",
    "ABKEl = pd.read_excel(\"Summa ABK Eldata.xlsx\")\n",
    "\n",
    "col1 = pd.to_numeric(Solprod.iloc[:, 0], errors= 'coerce')  # First column of Solprod\n",
    "col2 = pd.to_numeric(ABKEl.iloc[:, 0], errors= 'coerce')  # First column of ABKEl\n",
    "\n",
    "Batteri = 0.0\n",
    "\n",
    "for i in range(len(col1)):\n",
    "    diff = col1[i] - col2[i]\n",
    "    Batteri += diff\n",
    "\n",
    "print(Batteri)\n",
    "'''"
   ]
  }
 ],
 "metadata": {
  "kernelspec": {
   "display_name": "Python 3",
   "language": "python",
   "name": "python3"
  },
  "language_info": {
   "codemirror_mode": {
    "name": "ipython",
    "version": 3
   },
   "file_extension": ".py",
   "mimetype": "text/x-python",
   "name": "python",
   "nbconvert_exporter": "python",
   "pygments_lexer": "ipython3",
   "version": "3.11.9"
  }
 },
 "nbformat": 4,
 "nbformat_minor": 2
}
