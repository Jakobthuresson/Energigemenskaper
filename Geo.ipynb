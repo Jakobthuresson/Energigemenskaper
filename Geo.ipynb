{
 "cells": [
  {
   "cell_type": "code",
   "execution_count": null,
   "metadata": {},
   "outputs": [
    {
     "name": "stdout",
     "output_type": "stream",
     "text": [
      "Antal kubik vatten: 1.9684041470148552\n",
      "densiteten är:  938.79456\n",
      "Massan för vattnet: 1962.5934179728674\n",
      "hastigheten är 0.05766692981263121\n",
      "massflödet är: 0.06803106324978082\n",
      "volymflöde av Brine i liter/s: 0.07246640122177618\n",
      "cpBrine är: 3693.24\n"
     ]
    }
   ],
   "source": [
    "import math\n",
    "\n",
    "diameterSlang = 0.04\n",
    "diameterBrunn = 0.115\n",
    "\n",
    "radieSlang = diameterSlang/2\n",
    "radieBrunn = diameterBrunn/2\n",
    "\n",
    "areaHål = pow(radieBrunn, 2)*math.pi\n",
    "areaSlangar = pow(radieSlang, 2)*math.pi*2\n",
    "areaVatten = areaHål - areaSlangar\n",
    "\n",
    "volymVatten = 250*areaVatten\n",
    "print(\"Antal kubik vatten:\", volymVatten)\n",
    "volymVätska = 250*areaSlangar\n",
    "\n",
    "densVatten = 997.048\n",
    "densEtanol = 789\n",
    "densBrine = 0.28*densEtanol + 0.72*densVatten\n",
    "print(\"densiteten är: \", densBrine)\n",
    "\n",
    "massaVatten = densVatten*volymVatten\n",
    "print(\"Massan för vattnet:\", massaVatten)\n",
    "\n",
    "dynViscVatten = 890*pow(10, -6)\n",
    "dynViscEtanol = 1074*pow(10, -6)\n",
    "dynViscBrine = 0.28*dynViscEtanol + 0.72*dynViscVatten\n",
    "\n",
    "Re = 2300\n",
    "\n",
    "hastighetBrine = (Re*dynViscBrine)/(densBrine*diameterSlang)\n",
    "print(\"hastigheten är\", hastighetBrine)\n",
    "\n",
    "massFlödeBrine = densBrine*hastighetBrine*(areaSlangar/2)\n",
    "print(\"massflödet är:\" , massFlödeBrine)\n",
    "\n",
    "volymFlödeBrine = massFlödeBrine/densBrine\n",
    "print(\"volymflöde av Brine i liter/s:\" , volymFlödeBrine*1000)\n",
    "\n",
    "cpBrine = 0.28*2439 + 0.72*4181\n",
    "print(\"cpBrine är:\", cpBrine)\n",
    "\n",
    "\n",
    "\n"
   ]
  }
 ],
 "metadata": {
  "kernelspec": {
   "display_name": "Python 3",
   "language": "python",
   "name": "python3"
  },
  "language_info": {
   "codemirror_mode": {
    "name": "ipython",
    "version": 3
   },
   "file_extension": ".py",
   "mimetype": "text/x-python",
   "name": "python",
   "nbconvert_exporter": "python",
   "pygments_lexer": "ipython3",
   "version": "3.11.9"
  }
 },
 "nbformat": 4,
 "nbformat_minor": 2
}
