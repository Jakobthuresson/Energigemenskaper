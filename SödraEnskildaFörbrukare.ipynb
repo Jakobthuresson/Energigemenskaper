{
 "cells": [
  {
   "cell_type": "code",
   "execution_count": null,
   "metadata": {},
   "outputs": [],
   "source": [
    "import pandas as pd\n",
    "import numpy as np\n",
    "import matplotlib.pyplot as plt\n",
    "\n",
    "SolprodApoteket = pd.read_excel(\"Soldata-filerSÖDRA/Apoteket.xlsx\") \n",
    "SolprodPadelÖST = pd.read_excel(\"Soldata-filerSÖDRA/PadelÖST.xlsx\")\n",
    "SoldprodPadelVÄST = pd.read_excel(\"Soldata-filerSÖDRA/PadelVÄST.xlsx\")\n",
    "SolprodBadriket = pd.read_excel(\"Soldata-filerSÖDRA/Badriket.xlsx\")\n",
    "SolprodKrinova = pd.read_excel(\"Soldata-filerSÖDRA/Krinova.xlsx\")\n",
    "SolprodVRSverige = pd.read_excel(\"Soldata-filerSÖDRA/VRSverige.xlsx\")\n",
    "SolprodMejMITTNORR = pd.read_excel(\"Soldata-filerSÖDRA/MejerietMITTNORR.xlsx\")\n",
    "SolprodMejSÖDER = pd.read_excel(\"Soldata-filerSÖDRA/MejerietSöder.xlsx\")\n",
    "SolprodMejVÄST = pd.read_excel(\"Soldata-filerSÖDRA/MejerietVÄST.xlsx\")\n",
    "SolprodMejVÄSTVÄST = pd.read_excel(\"Soldata-filerSÖDRA/MejerietVÄSTVÄST.xlsx\")\n",
    "\n",
    "ElförbrMejeriet = pd.read_excel(\"Eldata-filerSÖDRA/SkånemejElförbr.xlsx\")\n",
    "ElförbrBadriket = pd.read_excel(\"Eldata-filerSÖDRA/BadriketElförbr.xlsx\")\n",
    "ElförbrBiogas = pd.read_excel(\"Eldata-filerSÖDRA/BiogasElförbr.xlsx\")\n",
    "ElförbrKrinova = pd.read_excel(\"Eldata-filerSÖDRA/KrinovaElförbr.xlsx\")\n",
    "ElförbrÖBApoteketETC = pd.read_excel(\"Eldata-filerSÖDRA\\ÖB,Apoteket, Bowling, Praktiska gymnasiet, padelhall.xlsx\")\n",
    "ElförbrVRSverige = pd.read_excel(\"Eldata-filerSÖDRA/VRSverigeElförbr.xlsx\")\n",
    "\n",
    "Spotpris = pd.read_excel(\"Spotpris.xlsx\", names=[\"Spotpris\"])  # Namnge kolumnen korrekt\n",
    "Vindprod = pd.read_excel(\"Vindturbin.xlsx\")\n",
    "\n",
    "Vind = 2*Vindprod.iloc[:, 0]\n",
    "Spot = Spotpris.iloc[:, 0]\n",
    "\n",
    "ElMejeriet = ElförbrMejeriet.iloc[:, 0]\n",
    "ElBadriket = ElförbrBadriket.iloc[:, 0]\n",
    "ElBiogas = ElförbrBiogas.iloc[:, 0]\n",
    "ElKrinova = ElförbrKrinova.iloc[:, 0]\n",
    "ElÖBApoteket = ElförbrÖBApoteketETC.iloc[:, 0]\n",
    "ElVRSverige = ElförbrVRSverige.iloc[:, 0]\n",
    "\n",
    "SolMejeriet = 0.8*(SolprodMejMITTNORR.iloc[:, 0] + SolprodMejSÖDER.iloc[:, 0] + SolprodMejVÄST.iloc[:, 0] + SolprodMejVÄSTVÄST.iloc[:, 0])\n",
    "SolÖBApoteketETC = 0.8*(SolprodPadelÖST.iloc[:, 0] + SoldprodPadelVÄST.iloc[:, 0] + SolprodApoteket.iloc[:, 0])\n",
    "SolBadriket = 0.8*(SolprodBadriket.iloc[:, 0])\n",
    "SolKrinova = 0.8*(SolprodKrinova.iloc[:, 0])\n",
    "SolVRSverige = 0.8*(SolprodVRSverige.iloc[:, 0])\n",
    "\n",
    "\n",
    "\n"
   ]
  }
 ],
 "metadata": {
  "kernelspec": {
   "display_name": "Python 3",
   "language": "python",
   "name": "python3"
  },
  "language_info": {
   "name": "python",
   "version": "3.11.9"
  }
 },
 "nbformat": 4,
 "nbformat_minor": 2
}
