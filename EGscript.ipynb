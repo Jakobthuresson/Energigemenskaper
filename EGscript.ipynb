{
 "cells": [
  {
   "cell_type": "code",
<<<<<<< HEAD
   "execution_count": 5,
=======
   "execution_count": 1,
>>>>>>> 0b2e2d4315b662b3420987549d47f2a6391b9d42
   "metadata": {},
   "outputs": [
    {
     "name": "stdout",
     "output_type": "stream",
     "text": [
<<<<<<< HEAD
      "Hello bring my Stogies, goodbye\n",
      "['.git', 'EGscript.ipynb', 'SPOTPRIS 2023 (1).xlsx', 'Summa ABK Eldata.xlsx', 'Summa Solprod. ABK .xlsx', 'SummeringVärmeGamlegården.xlsx']\n"
=======
      "Stogies for everyone \n"
>>>>>>> 0b2e2d4315b662b3420987549d47f2a6391b9d42
     ]
    }
   ],
   "source": [
    "def fn():\n",
    "    print(\"Stogies for everyone \")\n",
    "\n",
    "# Call the function\n",
    "fn()\n",
    "\n",
    "\n",
    "import os\n",
    "print(os.listdir())  # See if \"Summa Solprod.xlsx\" is listed correctly\n",
    "\n",
    "\n"
   ]
  },
  {
   "cell_type": "code",
   "execution_count": null,
   "metadata": {},
   "outputs": [
    {
     "name": "stdout",
     "output_type": "stream",
     "text": [
      "nan\n"
     ]
    }
   ],
   "source": [
    "from tokenize import Double\n",
    "import pandas as pd\n",
    "\n",
    "Solprod = pd.read_excel(\"Summa Solprod. ABK .xlsx\")\n",
    "\n",
    "ABKEl = pd.read_excel(\"Summa ABK Eldata.xlsx\")\n",
    "\n",
    "col1 = pd.to_numeric(Solprod.iloc[:, 0], errors= 'coerce')  # First column of Solprod\n",
    "col2 = pd.to_numeric(ABKEl.iloc[:, 0], errors= 'coerce')  # First column of ABKEl\n",
    "\n",
    "Batteri = 0.0\n",
    "\n",
    "for i in range(len(col1)):\n",
    "    diff = col1[i] - col2[i]\n",
    "    Batteri += diff\n",
    "\n",
    "print(Batteri)\n"
   ]
  }
 ],
 "metadata": {
  "kernelspec": {
   "display_name": "Python 3",
   "language": "python",
   "name": "python3"
  },
  "language_info": {
   "codemirror_mode": {
    "name": "ipython",
    "version": 3
   },
   "file_extension": ".py",
   "mimetype": "text/x-python",
   "name": "python",
   "nbconvert_exporter": "python",
   "pygments_lexer": "ipython3",
   "version": "3.13.1"
  }
 },
 "nbformat": 4,
 "nbformat_minor": 2
}
