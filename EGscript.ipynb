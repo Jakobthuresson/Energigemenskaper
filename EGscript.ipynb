{
 "cells": [
  {
   "cell_type": "code",
   "execution_count": 1,
   "metadata": {},
   "outputs": [
    {
     "name": "stdout",
     "output_type": "stream",
     "text": [
      "Stogies for everyone \n"
     ]
    }
   ],
   "source": [
    "def fn():\n",
    "    print(\"Stogies for everyone \")\n",
    "\n",
    "# Call the function\n",
    "fn()\n"
   ]
  },
  {
   "cell_type": "code",
   "execution_count": 17,
   "metadata": {},
   "outputs": [
    {
     "name": "stdout",
     "output_type": "stream",
     "text": [
      "0       0.0\n",
      "1       0.0\n",
      "2       0.0\n",
      "3       0.0\n",
      "4       0.0\n",
      "       ... \n",
      "8776    NaN\n",
      "8777    NaN\n",
      "8778    NaN\n",
      "8779    NaN\n",
      "8780    NaN\n",
      "Name: 0.1, Length: 8781, dtype: float64\n",
      "   Unnamed: 0\n",
      "0      178.00\n",
      "1      172.00\n",
      "2      149.50\n",
      "3      135.50\n",
      "4      132.25\n"
     ]
    }
   ],
   "source": [
    "import pandas as pd\n",
    "\n",
    "Test1Hus = pd.read_excel(\"Test1HUS.xlsx\")\n",
    "\n",
    "# Select only the last column\n",
    "last_column = Test1Hus.iloc[:, -1]\n",
    "\n",
    "# Print the last column\n",
    "print(last_column)\n",
    "\n",
    "TestABK1 = pd.read_excel(\"TEST-ABK1 prog.xlsx\")\n",
    "\n",
    "print(TestABK1.head())\n"
   ]
  }
 ],
 "metadata": {
  "kernelspec": {
   "display_name": "Python 3",
   "language": "python",
   "name": "python3"
  },
  "language_info": {
   "codemirror_mode": {
    "name": "ipython",
    "version": 3
   },
   "file_extension": ".py",
   "mimetype": "text/x-python",
   "name": "python",
   "nbconvert_exporter": "python",
   "pygments_lexer": "ipython3",
   "version": "3.13.1"
  }
 },
 "nbformat": 4,
 "nbformat_minor": 2
}
