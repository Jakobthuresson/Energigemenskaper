{
 "cells": [
  {
   "cell_type": "code",
   "execution_count": null,
   "metadata": {},
   "outputs": [],
   "source": [
    "from tokenize import Double\n",
    "import pandas as pd\n",
    "\n",
    "Solprod = pd.read_excel(\"Summa Solprod. ABK .xlsx\")\n",
    "\n",
    "ABKEl = pd.read_excel(\"Summa ABK Eldata.xlsx\")\n",
    "\n",
    "col1 = pd.to_numeric(Solprod.iloc[:, 0], errors= 'coerce')  # First column of Solprod\n",
    "col2 = pd.to_numeric(ABKEl.iloc[:, 0], errors= 'coerce')  # First column of ABKEl\n",
    "\n",
    "Batteri = 0.0\n",
    "\n",
    "for i in range(len(col1)):\n",
    "    diff = col1[i] - col2[i]\n",
    "    Batteri += diff\n",
    "\n",
    "print(Batteri)"
   ]
  }
 ],
 "metadata": {
  "kernelspec": {
   "display_name": "Python 3",
   "language": "python",
   "name": "python3"
  },
  "language_info": {
   "name": "python",
   "version": "3.11.9"
  }
 },
 "nbformat": 4,
 "nbformat_minor": 2
}
